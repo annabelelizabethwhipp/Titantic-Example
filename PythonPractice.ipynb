{
 "cells": [
  {
   "cell_type": "markdown",
   "id": "0772a759",
   "metadata": {},
   "source": [
    "# Python Practice\n",
    "\n",
    "This cell is written using Markdown "
   ]
  },
  {
   "cell_type": "markdown",
   "id": "ceab0553",
   "metadata": {},
   "source": [
    "## Before getting started\n",
    "\n",
    "* The dataset we are using in this exercise has been adapted from the 'Titanic' dataset, more information here: https://www.kaggle.com/competitions/titanic/data. Each row is a ticket purchased for the Titanic. The columns contain:\n",
    "    - The passenger name\n",
    "    - Whether they survived or not (binary value 1 = survived, 0 = did not survive)\n",
    "    - The class of the ticket (first, second, third)\n",
    "    - The sex of the passenger\n",
    "    - The age of the passenger \n",
    "    - How many siblings/spouse the passenger has on board\n",
    "    - How many parents/children the passenger has on board\n",
    "    - The fare paid\n",
    "\n",
    "* Tasks for you to complete are clearly marked throughout, but feel free to experiment with the code I have written, as this will help you develop a strong understanding of how it works\n",
    "\n",
    "* I have written extensive comments to walk you through the tutorial. In your own work it is good pratice to have comments which include all key information but do not need to be as detailed as this\n",
    "\n",
    "* After completing this exercise it may be useful to look at the different types of brackets used in Python"
   ]
  },
  {
   "cell_type": "code",
   "execution_count": 29,
   "id": "14f90bb2",
   "metadata": {},
   "outputs": [],
   "source": [
    "# import required packages\n",
    "# 'import' is a function \n",
    "# 'as' allows us to specify how we will call the packages in the notebook\n",
    "\n",
    "import pandas as pd\n",
    "import seaborn as sns\n",
    "import matplotlib.pyplot as plt"
   ]
  },
  {
   "cell_type": "code",
   "execution_count": 30,
   "id": "a3d0eb05",
   "metadata": {},
   "outputs": [],
   "source": [
    "# read in data\n",
    "# here, we are reading the data in using pandas (pd)\n",
    "# the data file must be saved in the same location as the jupyter notebook\n",
    "# the = means that we are assigning the data to the name 'df'\n",
    "# df is a common naming convention for any dataset but you can name it anything \n",
    "\n",
    "df = pd.read_csv(\"titanic.csv\")"
   ]
  },
  {
   "cell_type": "code",
   "execution_count": 31,
   "id": "72d3d3a9",
   "metadata": {
    "scrolled": false
   },
   "outputs": [
    {
     "data": {
      "text/html": [
       "<div>\n",
       "<style scoped>\n",
       "    .dataframe tbody tr th:only-of-type {\n",
       "        vertical-align: middle;\n",
       "    }\n",
       "\n",
       "    .dataframe tbody tr th {\n",
       "        vertical-align: top;\n",
       "    }\n",
       "\n",
       "    .dataframe thead th {\n",
       "        text-align: right;\n",
       "    }\n",
       "</style>\n",
       "<table border=\"1\" class=\"dataframe\">\n",
       "  <thead>\n",
       "    <tr style=\"text-align: right;\">\n",
       "      <th></th>\n",
       "      <th>Survived</th>\n",
       "      <th>Pclass</th>\n",
       "      <th>Name</th>\n",
       "      <th>Sex</th>\n",
       "      <th>Age</th>\n",
       "      <th>Siblings/Spouses Aboard</th>\n",
       "      <th>Parents/Children Aboard</th>\n",
       "      <th>Fare</th>\n",
       "    </tr>\n",
       "  </thead>\n",
       "  <tbody>\n",
       "    <tr>\n",
       "      <th>0</th>\n",
       "      <td>0</td>\n",
       "      <td>3</td>\n",
       "      <td>Mr. Owen Harris Braund</td>\n",
       "      <td>male</td>\n",
       "      <td>22.0</td>\n",
       "      <td>1</td>\n",
       "      <td>0</td>\n",
       "      <td>7.2500</td>\n",
       "    </tr>\n",
       "    <tr>\n",
       "      <th>1</th>\n",
       "      <td>1</td>\n",
       "      <td>1</td>\n",
       "      <td>Mrs. John Bradley (Florence Briggs Thayer) Cum...</td>\n",
       "      <td>female</td>\n",
       "      <td>38.0</td>\n",
       "      <td>1</td>\n",
       "      <td>0</td>\n",
       "      <td>71.2833</td>\n",
       "    </tr>\n",
       "    <tr>\n",
       "      <th>2</th>\n",
       "      <td>1</td>\n",
       "      <td>3</td>\n",
       "      <td>Miss. Laina Heikkinen</td>\n",
       "      <td>female</td>\n",
       "      <td>26.0</td>\n",
       "      <td>0</td>\n",
       "      <td>0</td>\n",
       "      <td>7.9250</td>\n",
       "    </tr>\n",
       "    <tr>\n",
       "      <th>3</th>\n",
       "      <td>1</td>\n",
       "      <td>1</td>\n",
       "      <td>Mrs. Jacques Heath (Lily May Peel) Futrelle</td>\n",
       "      <td>female</td>\n",
       "      <td>35.0</td>\n",
       "      <td>1</td>\n",
       "      <td>0</td>\n",
       "      <td>53.1000</td>\n",
       "    </tr>\n",
       "    <tr>\n",
       "      <th>4</th>\n",
       "      <td>0</td>\n",
       "      <td>3</td>\n",
       "      <td>Mr. William Henry Allen</td>\n",
       "      <td>male</td>\n",
       "      <td>35.0</td>\n",
       "      <td>0</td>\n",
       "      <td>0</td>\n",
       "      <td>8.0500</td>\n",
       "    </tr>\n",
       "  </tbody>\n",
       "</table>\n",
       "</div>"
      ],
      "text/plain": [
       "   Survived  Pclass                                               Name  \\\n",
       "0         0       3                             Mr. Owen Harris Braund   \n",
       "1         1       1  Mrs. John Bradley (Florence Briggs Thayer) Cum...   \n",
       "2         1       3                              Miss. Laina Heikkinen   \n",
       "3         1       1        Mrs. Jacques Heath (Lily May Peel) Futrelle   \n",
       "4         0       3                            Mr. William Henry Allen   \n",
       "\n",
       "      Sex   Age  Siblings/Spouses Aboard  Parents/Children Aboard     Fare  \n",
       "0    male  22.0                        1                        0   7.2500  \n",
       "1  female  38.0                        1                        0  71.2833  \n",
       "2  female  26.0                        0                        0   7.9250  \n",
       "3  female  35.0                        1                        0  53.1000  \n",
       "4    male  35.0                        0                        0   8.0500  "
      ]
     },
     "execution_count": 31,
     "metadata": {},
     "output_type": "execute_result"
    }
   ],
   "source": [
    "# the head function prints the top five rows in the dataframe \n",
    "\n",
    "df.head()\n",
    "\n",
    "# you can put a number (x) in the parantheses and it will print the top x n rows of the dataframe\n",
    "# print the top 25 rows here\n",
    "\n",
    "# try using 'tails' to print the bottom five rows in the dataframe"
   ]
  },
  {
   "cell_type": "code",
   "execution_count": 32,
   "id": "3f378893",
   "metadata": {
    "scrolled": true
   },
   "outputs": [
    {
     "name": "stdout",
     "output_type": "stream",
     "text": [
      "<class 'pandas.core.frame.DataFrame'>\n",
      "RangeIndex: 887 entries, 0 to 886\n",
      "Data columns (total 8 columns):\n",
      "Survived                   887 non-null int64\n",
      "Pclass                     887 non-null int64\n",
      "Name                       887 non-null object\n",
      "Sex                        887 non-null object\n",
      "Age                        887 non-null float64\n",
      "Siblings/Spouses Aboard    887 non-null int64\n",
      "Parents/Children Aboard    887 non-null int64\n",
      "Fare                       887 non-null float64\n",
      "dtypes: float64(2), int64(4), object(2)\n",
      "memory usage: 55.6+ KB\n"
     ]
    }
   ],
   "source": [
    "# summary of dataframe\n",
    "# here, using .info provides key information about our dataframe \n",
    "# a dataframe is a 2 dimensional data structure - like we use in excel\n",
    "# int64, object, and float64 are our data types\n",
    "\n",
    "df.info()"
   ]
  },
  {
   "cell_type": "markdown",
   "id": "56435109",
   "metadata": {},
   "source": [
    "- From the information above, we can see that the age variable is a 'float'\n",
    "- Floats are floating point numbers, i.e. they have a decimal place\n",
    "- As our age variable does not have decimal places we should convert it to an integer\n",
    "- Integers are numerical values which do not have decimal places"
   ]
  },
  {
   "cell_type": "code",
   "execution_count": 33,
   "id": "80d68bda",
   "metadata": {},
   "outputs": [],
   "source": [
    "# convert age to integer\n",
    "# we are saying that in our dataframe take the age column\n",
    "# then using the = we assign the information which follows\n",
    "# we convert the age column using the function 'astype' and specify that we want to get integer values\n",
    "\n",
    "df['Age'] = df['Age'].astype('int64')\n",
    "\n",
    "# you can use this same approach to convert to any data type\n",
    "\n",
    "# as demonstrated here, if we want to refer to a specific column in our dataframe\n",
    "# we must always specify the dataframe as well"
   ]
  },
  {
   "cell_type": "code",
   "execution_count": 35,
   "id": "2a8e8856",
   "metadata": {
    "scrolled": false
   },
   "outputs": [
    {
     "ename": "SyntaxError",
     "evalue": "invalid syntax (<ipython-input-35-9748a8b2f802>, line 4)",
     "output_type": "error",
     "traceback": [
      "\u001b[0;36m  File \u001b[0;32m\"<ipython-input-35-9748a8b2f802>\"\u001b[0;36m, line \u001b[0;32m4\u001b[0m\n\u001b[0;31m    df['Sex'] =\u001b[0m\n\u001b[0m                ^\u001b[0m\n\u001b[0;31mSyntaxError\u001b[0m\u001b[0;31m:\u001b[0m invalid syntax\n"
     ]
    }
   ],
   "source": [
    "# TASK: try to convert the 'Sex' column to categorical data using the data type 'category'\n",
    "# note that Python is case sensitive so make use you spell category with a lower case 'C'\n",
    "\n",
    "df['Sex'] = \n",
    "\n",
    "# print the information about the dataframe to check that the columns have been converted\n",
    "# it is really important to check that any changes you make have worked!"
   ]
  },
  {
   "cell_type": "code",
   "execution_count": 36,
   "id": "a5e02cdc",
   "metadata": {},
   "outputs": [
    {
     "data": {
      "text/html": [
       "<div>\n",
       "<style scoped>\n",
       "    .dataframe tbody tr th:only-of-type {\n",
       "        vertical-align: middle;\n",
       "    }\n",
       "\n",
       "    .dataframe tbody tr th {\n",
       "        vertical-align: top;\n",
       "    }\n",
       "\n",
       "    .dataframe thead th {\n",
       "        text-align: right;\n",
       "    }\n",
       "</style>\n",
       "<table border=\"1\" class=\"dataframe\">\n",
       "  <thead>\n",
       "    <tr style=\"text-align: right;\">\n",
       "      <th></th>\n",
       "      <th>Survived</th>\n",
       "      <th>Pclass</th>\n",
       "      <th>Age</th>\n",
       "      <th>Siblings/Spouses Aboard</th>\n",
       "      <th>Parents/Children Aboard</th>\n",
       "      <th>Fare</th>\n",
       "    </tr>\n",
       "  </thead>\n",
       "  <tbody>\n",
       "    <tr>\n",
       "      <th>count</th>\n",
       "      <td>887.000000</td>\n",
       "      <td>887.000000</td>\n",
       "      <td>887.000000</td>\n",
       "      <td>887.000000</td>\n",
       "      <td>887.000000</td>\n",
       "      <td>887.00000</td>\n",
       "    </tr>\n",
       "    <tr>\n",
       "      <th>mean</th>\n",
       "      <td>0.385569</td>\n",
       "      <td>2.305524</td>\n",
       "      <td>29.455468</td>\n",
       "      <td>0.525366</td>\n",
       "      <td>0.383315</td>\n",
       "      <td>32.30542</td>\n",
       "    </tr>\n",
       "    <tr>\n",
       "      <th>std</th>\n",
       "      <td>0.487004</td>\n",
       "      <td>0.836662</td>\n",
       "      <td>14.129919</td>\n",
       "      <td>1.104669</td>\n",
       "      <td>0.807466</td>\n",
       "      <td>49.78204</td>\n",
       "    </tr>\n",
       "    <tr>\n",
       "      <th>min</th>\n",
       "      <td>0.000000</td>\n",
       "      <td>1.000000</td>\n",
       "      <td>0.000000</td>\n",
       "      <td>0.000000</td>\n",
       "      <td>0.000000</td>\n",
       "      <td>0.00000</td>\n",
       "    </tr>\n",
       "    <tr>\n",
       "      <th>25%</th>\n",
       "      <td>0.000000</td>\n",
       "      <td>2.000000</td>\n",
       "      <td>20.000000</td>\n",
       "      <td>0.000000</td>\n",
       "      <td>0.000000</td>\n",
       "      <td>7.92500</td>\n",
       "    </tr>\n",
       "    <tr>\n",
       "      <th>50%</th>\n",
       "      <td>0.000000</td>\n",
       "      <td>3.000000</td>\n",
       "      <td>28.000000</td>\n",
       "      <td>0.000000</td>\n",
       "      <td>0.000000</td>\n",
       "      <td>14.45420</td>\n",
       "    </tr>\n",
       "    <tr>\n",
       "      <th>75%</th>\n",
       "      <td>1.000000</td>\n",
       "      <td>3.000000</td>\n",
       "      <td>38.000000</td>\n",
       "      <td>1.000000</td>\n",
       "      <td>0.000000</td>\n",
       "      <td>31.13750</td>\n",
       "    </tr>\n",
       "    <tr>\n",
       "      <th>max</th>\n",
       "      <td>1.000000</td>\n",
       "      <td>3.000000</td>\n",
       "      <td>80.000000</td>\n",
       "      <td>8.000000</td>\n",
       "      <td>6.000000</td>\n",
       "      <td>512.32920</td>\n",
       "    </tr>\n",
       "  </tbody>\n",
       "</table>\n",
       "</div>"
      ],
      "text/plain": [
       "         Survived      Pclass         Age  Siblings/Spouses Aboard  \\\n",
       "count  887.000000  887.000000  887.000000               887.000000   \n",
       "mean     0.385569    2.305524   29.455468                 0.525366   \n",
       "std      0.487004    0.836662   14.129919                 1.104669   \n",
       "min      0.000000    1.000000    0.000000                 0.000000   \n",
       "25%      0.000000    2.000000   20.000000                 0.000000   \n",
       "50%      0.000000    3.000000   28.000000                 0.000000   \n",
       "75%      1.000000    3.000000   38.000000                 1.000000   \n",
       "max      1.000000    3.000000   80.000000                 8.000000   \n",
       "\n",
       "       Parents/Children Aboard       Fare  \n",
       "count               887.000000  887.00000  \n",
       "mean                  0.383315   32.30542  \n",
       "std                   0.807466   49.78204  \n",
       "min                   0.000000    0.00000  \n",
       "25%                   0.000000    7.92500  \n",
       "50%                   0.000000   14.45420  \n",
       "75%                   0.000000   31.13750  \n",
       "max                   6.000000  512.32920  "
      ]
     },
     "execution_count": 36,
     "metadata": {},
     "output_type": "execute_result"
    }
   ],
   "source": [
    "# the describe function provides basic descriptive statistics for all columns in our dataframe \n",
    "# you can print all of these statistics individually but the describe function is a quick way to print them all\n",
    "\n",
    "df.describe()"
   ]
  },
  {
   "cell_type": "code",
   "execution_count": 37,
   "id": "7b454955",
   "metadata": {
    "scrolled": true
   },
   "outputs": [
    {
     "data": {
      "text/html": [
       "<div>\n",
       "<style scoped>\n",
       "    .dataframe tbody tr th:only-of-type {\n",
       "        vertical-align: middle;\n",
       "    }\n",
       "\n",
       "    .dataframe tbody tr th {\n",
       "        vertical-align: top;\n",
       "    }\n",
       "\n",
       "    .dataframe thead th {\n",
       "        text-align: right;\n",
       "    }\n",
       "</style>\n",
       "<table border=\"1\" class=\"dataframe\">\n",
       "  <thead>\n",
       "    <tr style=\"text-align: right;\">\n",
       "      <th></th>\n",
       "      <th>Survived</th>\n",
       "      <th>Pclass</th>\n",
       "      <th>Name</th>\n",
       "      <th>Sex</th>\n",
       "      <th>Age</th>\n",
       "      <th>Siblings/Spouses Aboard</th>\n",
       "      <th>Parents/Children Aboard</th>\n",
       "      <th>Fare</th>\n",
       "    </tr>\n",
       "  </thead>\n",
       "  <tbody>\n",
       "    <tr>\n",
       "      <th>0</th>\n",
       "      <td>0</td>\n",
       "      <td>3</td>\n",
       "      <td>Mr. Owen Harris Braund</td>\n",
       "      <td>male</td>\n",
       "      <td>22</td>\n",
       "      <td>1</td>\n",
       "      <td>0</td>\n",
       "      <td>7.250</td>\n",
       "    </tr>\n",
       "    <tr>\n",
       "      <th>1</th>\n",
       "      <td>1</td>\n",
       "      <td>1</td>\n",
       "      <td>Mrs. John Bradley (Florence Briggs Thayer) Cum...</td>\n",
       "      <td>female</td>\n",
       "      <td>38</td>\n",
       "      <td>1</td>\n",
       "      <td>0</td>\n",
       "      <td>71.283</td>\n",
       "    </tr>\n",
       "    <tr>\n",
       "      <th>2</th>\n",
       "      <td>1</td>\n",
       "      <td>3</td>\n",
       "      <td>Miss. Laina Heikkinen</td>\n",
       "      <td>female</td>\n",
       "      <td>26</td>\n",
       "      <td>0</td>\n",
       "      <td>0</td>\n",
       "      <td>7.925</td>\n",
       "    </tr>\n",
       "    <tr>\n",
       "      <th>3</th>\n",
       "      <td>1</td>\n",
       "      <td>1</td>\n",
       "      <td>Mrs. Jacques Heath (Lily May Peel) Futrelle</td>\n",
       "      <td>female</td>\n",
       "      <td>35</td>\n",
       "      <td>1</td>\n",
       "      <td>0</td>\n",
       "      <td>53.100</td>\n",
       "    </tr>\n",
       "    <tr>\n",
       "      <th>4</th>\n",
       "      <td>0</td>\n",
       "      <td>3</td>\n",
       "      <td>Mr. William Henry Allen</td>\n",
       "      <td>male</td>\n",
       "      <td>35</td>\n",
       "      <td>0</td>\n",
       "      <td>0</td>\n",
       "      <td>8.050</td>\n",
       "    </tr>\n",
       "  </tbody>\n",
       "</table>\n",
       "</div>"
      ],
      "text/plain": [
       "   Survived  Pclass                                               Name  \\\n",
       "0         0       3                             Mr. Owen Harris Braund   \n",
       "1         1       1  Mrs. John Bradley (Florence Briggs Thayer) Cum...   \n",
       "2         1       3                              Miss. Laina Heikkinen   \n",
       "3         1       1        Mrs. Jacques Heath (Lily May Peel) Futrelle   \n",
       "4         0       3                            Mr. William Henry Allen   \n",
       "\n",
       "      Sex  Age  Siblings/Spouses Aboard  Parents/Children Aboard    Fare  \n",
       "0    male   22                        1                        0   7.250  \n",
       "1  female   38                        1                        0  71.283  \n",
       "2  female   26                        0                        0   7.925  \n",
       "3  female   35                        1                        0  53.100  \n",
       "4    male   35                        0                        0   8.050  "
      ]
     },
     "execution_count": 37,
     "metadata": {},
     "output_type": "execute_result"
    }
   ],
   "source": [
    "# as you can see above, data in the 'Fare' column goes up to six decimal places \n",
    "# as we rarely need this many, we will round all the values to 3 decimal places \n",
    "\n",
    "# round the fare column to 3 decimal places and assign it to the dataframe\n",
    "# print the first 5 years to ensure they have changed\n",
    "\n",
    "df['Fare'] = df['Fare'].round(decimals=3)\n",
    "df.head()"
   ]
  },
  {
   "cell_type": "markdown",
   "id": "a03c5aaa",
   "metadata": {},
   "source": [
    "# Graphs and plots"
   ]
  },
  {
   "cell_type": "code",
   "execution_count": 38,
   "id": "6565623c",
   "metadata": {},
   "outputs": [
    {
     "data": {
      "text/plain": [
       "<AxesSubplot:xlabel='Age', ylabel='Sex'>"
      ]
     },
     "execution_count": 38,
     "metadata": {},
     "output_type": "execute_result"
    },
    {
     "data": {
      "image/png": "[encoded data removed]",
      "text/plain": [
       "<Figure size 432x288 with 1 Axes>"
      ]
     },
     "metadata": {},
     "output_type": "display_data"
    }
   ],
   "source": [
    "# create a basic bar chart using seaborn\n",
    "# ci stands for confidence interval- we are specifying that we don't want them printed on the plot\n",
    "# to include them, delete 'CI=None'\n",
    "# we must specify the columns we want on the X and Y axes and that they are in the 'df' dataframe\n",
    "\n",
    "sns.barplot(x=\"Age\", y=\"Sex\", ci= None, data=df)"
   ]
  },
  {
   "cell_type": "code",
   "execution_count": 39,
   "id": "1c63b8aa",
   "metadata": {
    "scrolled": true
   },
   "outputs": [
    {
     "data": {
      "text/plain": [
       "<AxesSubplot:xlabel='Age', ylabel='Density'>"
      ]
     },
     "execution_count": 39,
     "metadata": {},
     "output_type": "execute_result"
    },
    {
     "data": {
      "image/png": "[encoded data removed]",
      "text/plain": [
       "<Figure size 1800x1008 with 1 Axes>"
      ]
     },
     "metadata": {},
     "output_type": "display_data"
    }
   ],
   "source": [
    "# density plot / histogram\n",
    "# set the figure size\n",
    "plt.figure(figsize=(25, 14))\n",
    "# use the histplot function from seaborn\n",
    "# specify that we want 'Age' on the x-axis \n",
    "# we also want to shade each age group based on the proportion of people in each of the three classes\n",
    "# we specify the stat (here the y axis) as density, but we could change it to the count\n",
    " \n",
    "sns.histplot(\n",
    "    df, x=\"Age\", hue=\"Pclass\",\n",
    "    stat=\"density\"\n",
    ")"
   ]
  },
  {
   "cell_type": "code",
   "execution_count": 40,
   "id": "20bd65f0",
   "metadata": {},
   "outputs": [
    {
     "data": {
      "text/plain": [
       "<AxesSubplot:xlabel='Age'>"
      ]
     },
     "execution_count": 40,
     "metadata": {},
     "output_type": "execute_result"
    },
    {
     "data": {
      "image/png": "[encoded data removed]",
      "text/plain": [
       "<Figure size 1800x1008 with 1 Axes>"
      ]
     },
     "metadata": {},
     "output_type": "display_data"
    }
   ],
   "source": [
    "# create a box plot\n",
    "# set the figure size - try commenting this out and see what happens\n",
    "plt.figure(figsize=(25, 14))\n",
    "\n",
    "# set the seaborn (sns) theme - info about styles is available on the seaborn website\n",
    "sns.set_theme(style=\"whitegrid\")\n",
    "\n",
    "# plot the boxplot using the 'Age' column from the 'df'\n",
    "# we assign the Age column to x as we want age on the x axis\n",
    "# we have no y axis here so do not need to assign anything else\n",
    "sns.boxplot(x=df[\"Age\"],palette='pastel')\n",
    "\n",
    "# TASK: change the palette to a different option"
   ]
  },
  {
   "cell_type": "code",
   "execution_count": 41,
   "id": "e484af77",
   "metadata": {
    "scrolled": false
   },
   "outputs": [
    {
     "data": {
      "text/plain": [
       "<AxesSubplot:xlabel='Sex', ylabel='Age'>"
      ]
     },
     "execution_count": 41,
     "metadata": {},
     "output_type": "execute_result"
    },
    {
     "data": {
      "image/png": "[encoded data removed]",
      "text/plain": [
       "<Figure size 432x288 with 1 Axes>"
      ]
     },
     "metadata": {},
     "output_type": "display_data"
    }
   ],
   "source": [
    "# here we can create a box plot using Sex and Age\n",
    "sns.boxplot(x=\"Sex\", y=\"Age\", data=df, palette='pastel')"
   ]
  },
  {
   "cell_type": "code",
   "execution_count": 42,
   "id": "856e77c2",
   "metadata": {},
   "outputs": [],
   "source": [
    "# TASK: try plotting two other variables"
   ]
  },
  {
   "cell_type": "code",
   "execution_count": 43,
   "id": "9d453b1c",
   "metadata": {},
   "outputs": [
    {
     "data": {
      "text/plain": [
       "<AxesSubplot:xlabel='Age', ylabel='Sex'>"
      ]
     },
     "execution_count": 43,
     "metadata": {},
     "output_type": "execute_result"
    },
    {
     "data": {
      "image/png": "[encoded data removed]",
      "text/plain": [
       "<Figure size 432x288 with 1 Axes>"
      ]
     },
     "metadata": {},
     "output_type": "display_data"
    }
   ],
   "source": [
    "# create a violin plot\n",
    "# here, we are using seaborn to produce a violin plot\n",
    "# we specify that the 'Sex' variable is on the y axis\n",
    "# and that 'Age' is on the y acus\n",
    "# we also need to specify that they come from the dataframe 'df'\n",
    "# palette is just the colour scheme we are using - to find the names of other colour schemes, use the seaborn website\n",
    "\n",
    "sns.violinplot(y=\"Sex\", \n",
    "                x=\"Age\", \n",
    "                data=df, palette='pastel')"
   ]
  },
  {
   "cell_type": "code",
   "execution_count": 44,
   "id": "3bdc3332",
   "metadata": {},
   "outputs": [],
   "source": [
    "# renaming a column \n",
    "\n",
    "# IMPORTANT - REMEMBER IF YOU CHANGE COLUMN NAMES HERE MAKE SURE THEY ARE USED THROUGHOUT THE REST OF THE NOTEBOOK\n",
    "\n",
    "# often we will want to rename a column \n",
    "# to do this we use the rename function\n",
    "\n",
    "# separate the current column name with the new column name\n",
    "\n",
    "# the axis denotes whether we want to work with the columns in the dataframe or the rows\n",
    "# columns are denoted using a '1' and rows using a '0'\n",
    "\n",
    "df = df.rename({'Pclass': 'Class'}, axis=1)"
   ]
  },
  {
   "cell_type": "code",
   "execution_count": 45,
   "id": "5436a8a0",
   "metadata": {},
   "outputs": [],
   "source": [
    "# TASK: print the first 5 rows of the dataset to check the class column has been renamed\n"
   ]
  },
  {
   "cell_type": "code",
   "execution_count": 46,
   "id": "f11c1df4",
   "metadata": {},
   "outputs": [],
   "source": [
    "# TASK: change the name of one other column\n",
    "# note - it is good practice to make sure you dont have spaces between words"
   ]
  },
  {
   "cell_type": "markdown",
   "id": "1e1ea5d7",
   "metadata": {},
   "source": [
    "Often we will need to know more information about data in certain columns"
   ]
  },
  {
   "cell_type": "code",
   "execution_count": 47,
   "id": "91e4a823",
   "metadata": {
    "scrolled": true
   },
   "outputs": [
    {
     "data": {
      "text/plain": [
       "3    487\n",
       "1    216\n",
       "2    184\n",
       "Name: Class, dtype: int64"
      ]
     },
     "execution_count": 47,
     "metadata": {},
     "output_type": "execute_result"
    }
   ],
   "source": [
    "# check how many people are in each class\n",
    "# there are three different possible classes within the 'class' column \n",
    "# here, we get the number of people (count) in each class\n",
    "\n",
    "df['Class'].value_counts()"
   ]
  },
  {
   "cell_type": "code",
   "execution_count": 48,
   "id": "349342ca",
   "metadata": {},
   "outputs": [
    {
     "data": {
      "text/plain": [
       "3    0.549042\n",
       "1    0.243517\n",
       "2    0.207441\n",
       "Name: Class, dtype: float64"
      ]
     },
     "execution_count": 48,
     "metadata": {},
     "output_type": "execute_result"
    }
   ],
   "source": [
    "# normalise the counts for each class between 0 and 1\n",
    "# to compare the number of people in each class it may be helpful to normalise the values\n",
    "\n",
    "df['Class'].value_counts(normalize=True)"
   ]
  },
  {
   "cell_type": "code",
   "execution_count": 49,
   "id": "19201816",
   "metadata": {},
   "outputs": [],
   "source": [
    "# we can also check how many rows meet the criteria of two different columns\n",
    "\n",
    "# check how many females (from the 'Sex' column) are in first class (from the 'Class' column)"
   ]
  },
  {
   "cell_type": "code",
   "execution_count": 50,
   "id": "636e836f",
   "metadata": {
    "scrolled": true
   },
   "outputs": [
    {
     "data": {
      "text/plain": [
       "Survived                   94\n",
       "Class                      94\n",
       "Name                       94\n",
       "Sex                        94\n",
       "Age                        94\n",
       "Siblings/Spouses Aboard    94\n",
       "Parents/Children Aboard    94\n",
       "Fare                       94\n",
       "dtype: int64"
      ]
     },
     "execution_count": 50,
     "metadata": {},
     "output_type": "execute_result"
    }
   ],
   "source": [
    "df.loc[(df['Class'] == 1) & (df['Sex'] == \"female\")].count()"
   ]
  },
  {
   "cell_type": "code",
   "execution_count": 51,
   "id": "150b0ddc",
   "metadata": {},
   "outputs": [],
   "source": [
    "# check how many males are in first class"
   ]
  },
  {
   "cell_type": "code",
   "execution_count": 52,
   "id": "0026effb",
   "metadata": {},
   "outputs": [
    {
     "data": {
      "text/plain": [
       "Survived                   122\n",
       "Class                      122\n",
       "Name                       122\n",
       "Sex                        122\n",
       "Age                        122\n",
       "Siblings/Spouses Aboard    122\n",
       "Parents/Children Aboard    122\n",
       "Fare                       122\n",
       "dtype: int64"
      ]
     },
     "execution_count": 52,
     "metadata": {},
     "output_type": "execute_result"
    }
   ],
   "source": [
    "df.loc[(df['Class'] == 1) & (df['Sex'] == \"male\")].count()"
   ]
  },
  {
   "cell_type": "code",
   "execution_count": 53,
   "id": "d84f0fd1",
   "metadata": {},
   "outputs": [],
   "source": [
    "# TASK: check the number of females in third class"
   ]
  }
 ],
 "metadata": {
  "kernelspec": {
   "display_name": "Python 3",
   "language": "python",
   "name": "python3"
  },
  "language_info": {
   "codemirror_mode": {
    "name": "ipython",
    "version": 3
   },
   "file_extension": ".py",
   "mimetype": "text/x-python",
   "name": "python",
   "nbconvert_exporter": "python",
   "pygments_lexer": "ipython3",
   "version": "3.6.13"
  }
 },
 "nbformat": 4,
 "nbformat_minor": 5
}
